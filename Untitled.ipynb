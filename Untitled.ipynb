{
 "cells": [
  {
   "cell_type": "markdown",
   "id": "c1da5472",
   "metadata": {},
   "source": [
    "# Creating our first recurrent neural network for mnist data\n",
    "## Importing Libraries"
   ]
  },
  {
   "cell_type": "code",
   "execution_count": 1,
   "id": "7d5a18c4",
   "metadata": {},
   "outputs": [],
   "source": [
    "import tensorflow as tf\n",
    "from tensorflow.keras.models import Sequential\n",
    "from tensorflow.keras.layers import Dense,Dropout,LSTM"
   ]
  },
  {
   "cell_type": "markdown",
   "id": "589f5335",
   "metadata": {},
   "source": [
    "# Loading Data"
   ]
  },
  {
   "cell_type": "code",
   "execution_count": 2,
   "id": "6bfaa06c",
   "metadata": {},
   "outputs": [
    {
     "name": "stdout",
     "output_type": "stream",
     "text": [
      "Downloading data from https://storage.googleapis.com/tensorflow/tf-keras-datasets/mnist.npz\n",
      "11490434/11490434 [==============================] - 8s 1us/step\n"
     ]
    }
   ],
   "source": [
    "mnist = tf.keras.datasets.mnist\n",
    "(x_train,y_train),(x_test,y_test) = mnist.load_data()"
   ]
  },
  {
   "cell_type": "markdown",
   "id": "7a317018",
   "metadata": {},
   "source": [
    "# Spliting into train and test"
   ]
  },
  {
   "cell_type": "code",
   "execution_count": 3,
   "id": "c7baca59",
   "metadata": {},
   "outputs": [],
   "source": [
    "x_train = x_train/255.0\n",
    "x_test = x_test/255.0"
   ]
  },
  {
   "cell_type": "code",
   "execution_count": 4,
   "id": "fbd21e70",
   "metadata": {},
   "outputs": [
    {
     "name": "stdout",
     "output_type": "stream",
     "text": [
      "(60000, 28, 28)\n",
      "(28, 28)\n"
     ]
    }
   ],
   "source": [
    "print(x_train.shape)\n",
    "print(x_train[0].shape)"
   ]
  },
  {
   "cell_type": "markdown",
   "id": "26d2714d",
   "metadata": {},
   "source": [
    "# Creating an LSTM  model"
   ]
  },
  {
   "cell_type": "code",
   "execution_count": 5,
   "id": "53f40dd6",
   "metadata": {},
   "outputs": [],
   "source": [
    "model = Sequential()\n",
    "model.add(LSTM(128,input_shape =(x_train.shape[1:]),activation = 'relu',return_sequences=True))\n",
    "model.add(Dropout(0.2))\n",
    "\n",
    "model.add(LSTM(128, activation='relu'))\n",
    "model.add(Dropout(0.1))\n",
    "\n",
    "model.add(Dense(32, activation='relu'))\n",
    "model.add(Dropout(0.2))\n",
    "\n",
    "model.add(Dense(10, activation='softmax'))\n"
   ]
  },
  {
   "cell_type": "markdown",
   "id": "53c09725",
   "metadata": {},
   "source": [
    "# compiling and fitting the model on our data"
   ]
  },
  {
   "cell_type": "code",
   "execution_count": 6,
   "id": "dbd43e34",
   "metadata": {},
   "outputs": [
    {
     "name": "stderr",
     "output_type": "stream",
     "text": [
      "D:\\anaconda install\\lib\\site-packages\\keras\\optimizers\\optimizer_v2\\adam.py:114: UserWarning: The `lr` argument is deprecated, use `learning_rate` instead.\n",
      "  super().__init__(name, **kwargs)\n"
     ]
    },
    {
     "name": "stdout",
     "output_type": "stream",
     "text": [
      "Epoch 1/3\n",
      "1875/1875 [==============================] - 181s 93ms/step - loss: 0.5823 - accuracy: 0.8150 - val_loss: 0.1277 - val_accuracy: 0.9642\n",
      "Epoch 2/3\n",
      "1875/1875 [==============================] - 162s 86ms/step - loss: 0.1566 - accuracy: 0.9574 - val_loss: 0.0860 - val_accuracy: 0.9764\n",
      "Epoch 3/3\n",
      "1875/1875 [==============================] - 161s 86ms/step - loss: 0.1204 - accuracy: 0.9679 - val_loss: 0.0680 - val_accuracy: 0.9806\n"
     ]
    },
    {
     "data": {
      "text/plain": [
       "<keras.callbacks.History at 0x21faf9d0f40>"
      ]
     },
     "execution_count": 6,
     "metadata": {},
     "output_type": "execute_result"
    }
   ],
   "source": [
    "opt = tf.keras.optimizers.Adam(lr=0.001, decay=1e-6)\n",
    "\n",
    "model.compile(\n",
    "    loss='sparse_categorical_crossentropy',\n",
    "    optimizer=opt,\n",
    "    metrics=['accuracy'],\n",
    ")\n",
    "\n",
    "model.fit(x_train,\n",
    "          y_train,\n",
    "          epochs=3,\n",
    "          validation_data=(x_test, y_test))"
   ]
  },
  {
   "cell_type": "code",
   "execution_count": 7,
   "id": "74363afd",
   "metadata": {},
   "outputs": [
    {
     "name": "stdout",
     "output_type": "stream",
     "text": [
      "313/313 [==============================] - 14s 43ms/step\n"
     ]
    },
    {
     "data": {
      "text/plain": [
       "array([[6.4272326e-10, 8.1235472e-09, 2.6005455e-07, ..., 9.9999535e-01,\n",
       "        1.9196262e-09, 3.9475476e-06],\n",
       "       [9.5139245e-18, 9.4881308e-12, 1.0000000e+00, ..., 8.3553207e-14,\n",
       "        3.9537643e-15, 3.2910205e-20],\n",
       "       [4.7705143e-14, 9.9999940e-01, 3.3050288e-08, ..., 1.5223532e-07,\n",
       "        2.6440722e-07, 1.5450878e-08],\n",
       "       ...,\n",
       "       [5.3851443e-09, 1.1905584e-12, 1.9142331e-10, ..., 7.8311562e-09,\n",
       "        2.1513623e-08, 2.1266796e-06],\n",
       "       [5.5431281e-07, 1.4176164e-06, 7.1128500e-07, ..., 1.9620092e-08,\n",
       "        8.6024910e-04, 5.6699741e-06],\n",
       "       [2.6979767e-05, 7.3965656e-10, 6.3608788e-08, ..., 2.6366615e-11,\n",
       "        6.5268559e-08, 1.3875811e-09]], dtype=float32)"
      ]
     },
     "execution_count": 7,
     "metadata": {},
     "output_type": "execute_result"
    }
   ],
   "source": [
    "model.predict(x_test)"
   ]
  },
  {
   "cell_type": "code",
   "execution_count": null,
   "id": "a96fb14c",
   "metadata": {},
   "outputs": [],
   "source": []
  }
 ],
 "metadata": {
  "kernelspec": {
   "display_name": "Python 3 (ipykernel)",
   "language": "python",
   "name": "python3"
  },
  "language_info": {
   "codemirror_mode": {
    "name": "ipython",
    "version": 3
   },
   "file_extension": ".py",
   "mimetype": "text/x-python",
   "name": "python",
   "nbconvert_exporter": "python",
   "pygments_lexer": "ipython3",
   "version": "3.9.12"
  }
 },
 "nbformat": 4,
 "nbformat_minor": 5
}
